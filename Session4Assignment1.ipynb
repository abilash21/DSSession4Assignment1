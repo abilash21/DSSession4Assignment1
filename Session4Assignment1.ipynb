{
 "cells": [
  {
   "cell_type": "code",
   "execution_count": 27,
   "metadata": {},
   "outputs": [
    {
     "name": "stdout",
     "output_type": "stream",
     "text": [
      "Sides of Object is: 2, 2, 3 \n",
      "Semi-Perimeter: 3.5\n",
      "Area of Triange is:  1.984313483298443\n"
     ]
    }
   ],
   "source": [
    "class Sides():\n",
    "    def __init__(self, a, b, c):\n",
    "        self._a = a\n",
    "        self._b = b\n",
    "        self._c = c\n",
    "    \n",
    "    def __str__(self):\n",
    "        return \"Sides of Object is: %s, %s, %s \" %(self._a ,self._b , self._c)\n",
    "    \n",
    "class Area(Sides):\n",
    "    def __init__(self,  *args, **kwargs):\n",
    "        super(Area, self).__init__(*args, **kwargs)\n",
    "        \n",
    "    \n",
    "    def Triangle(self):\n",
    "        s = (self._a+self._b+self._c)/2\n",
    "        print(\"Semi-Perimeter:\",s)\n",
    "        area =  (s*(s-self._a)*(s-self._b)*(s-self._c)) ** 0.5\n",
    "        #print(area)\n",
    "        return area\n",
    "\n",
    "ar = Area(2,2,3)\n",
    "print(ar)\n",
    "areatriangle = ar.Triangle()\n",
    "print(\"Area of Triange is: \",areatriangle)\n",
    "\n",
    "        "
   ]
  },
  {
   "cell_type": "code",
   "execution_count": 28,
   "metadata": {},
   "outputs": [
    {
     "name": "stdout",
     "output_type": "stream",
     "text": [
      "['Hello', 'WORLD', 'MORNING']\n"
     ]
    }
   ],
   "source": [
    "def filter_long_words(lst, n):\n",
    "    retlst =[]\n",
    "    for l in lst:\n",
    "        if len(l)>n:\n",
    "            retlst.append(l)\n",
    "    return retlst\n",
    "\n",
    "lst =['Hello', 'WORLD','GOOD', 'MORNING']\n",
    "long_word =filter_long_words(lst,4)\n",
    "print(long_word)"
   ]
  },
  {
   "cell_type": "code",
   "execution_count": null,
   "metadata": {
    "collapsed": true
   },
   "outputs": [],
   "source": []
  }
 ],
 "metadata": {
  "kernelspec": {
   "display_name": "Python 3",
   "language": "python",
   "name": "python3"
  },
  "language_info": {
   "codemirror_mode": {
    "name": "ipython",
    "version": 3
   },
   "file_extension": ".py",
   "mimetype": "text/x-python",
   "name": "python",
   "nbconvert_exporter": "python",
   "pygments_lexer": "ipython3",
   "version": "3.6.3"
  }
 },
 "nbformat": 4,
 "nbformat_minor": 2
}
